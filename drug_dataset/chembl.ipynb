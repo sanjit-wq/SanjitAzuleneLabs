{
 "cells": [
  {
   "cell_type": "code",
   "execution_count": null,
   "id": "ce0d05bd",
   "metadata": {},
   "outputs": [
    {
     "name": "stdout",
     "output_type": "stream",
     "text": [
      "Requirement already satisfied: requests in /opt/anaconda3/envs/ugrad-nlp/lib/python3.10/site-packages (2.32.5)\n",
      "Requirement already satisfied: charset_normalizer<4,>=2 in /opt/anaconda3/envs/ugrad-nlp/lib/python3.10/site-packages (from requests) (3.4.3)\n",
      "Requirement already satisfied: idna<4,>=2.5 in /opt/anaconda3/envs/ugrad-nlp/lib/python3.10/site-packages (from requests) (3.10)\n",
      "Requirement already satisfied: urllib3<3,>=1.21.1 in /opt/anaconda3/envs/ugrad-nlp/lib/python3.10/site-packages (from requests) (2.5.0)\n",
      "Requirement already satisfied: certifi>=2017.4.17 in /opt/anaconda3/envs/ugrad-nlp/lib/python3.10/site-packages (from requests) (2025.8.3)\n",
      "Requirement already satisfied: pandas in /opt/anaconda3/envs/ugrad-nlp/lib/python3.10/site-packages (2.3.2)\n",
      "Requirement already satisfied: numpy>=1.22.4 in /opt/anaconda3/envs/ugrad-nlp/lib/python3.10/site-packages (from pandas) (1.26.4)\n",
      "Requirement already satisfied: python-dateutil>=2.8.2 in /opt/anaconda3/envs/ugrad-nlp/lib/python3.10/site-packages (from pandas) (2.9.0.post0)\n",
      "Requirement already satisfied: pytz>=2020.1 in /opt/anaconda3/envs/ugrad-nlp/lib/python3.10/site-packages (from pandas) (2025.2)\n",
      "Requirement already satisfied: tzdata>=2022.7 in /opt/anaconda3/envs/ugrad-nlp/lib/python3.10/site-packages (from pandas) (2025.2)\n",
      "Requirement already satisfied: six>=1.5 in /opt/anaconda3/envs/ugrad-nlp/lib/python3.10/site-packages (from python-dateutil>=2.8.2->pandas) (1.17.0)\n"
     ]
    }
   ],
   "source": [
    "!pip install requests\n",
    "!pip install pandas\n",
    "!pip install numpy\n"
   ]
  },
  {
   "cell_type": "markdown",
   "id": "df90a7fc",
   "metadata": {},
   "source": [
    "# Downloading all the CHEMBL Molecules"
   ]
  },
  {
   "cell_type": "code",
   "execution_count": null,
   "id": "8b50976e",
   "metadata": {},
   "outputs": [],
   "source": [
    "import requests\n",
    "import pandas as pd\n",
    "\n",
    "BASE_URL = \"https://www.ebi.ac.uk\"\n",
    "\n",
    "def get_all_records(endpoint, max_records=5000):\n",
    "    url = f\"https://www.ebi.ac.uk/chembl/api/data/{endpoint}.json?limit=1000\"\n",
    "    all_data = []\n",
    "\n",
    "    while url and len(all_data) < max_records:\n",
    "        res = requests.get(url)\n",
    "        res.raise_for_status()\n",
    "        data = res.json()\n",
    "        all_data.extend(data[endpoint + \"s\"])  # e.g., 'activities', 'molecules'\n",
    "        #url = data['page_meta']['next']  # next page link\n",
    "\n",
    "        next_url = data['page_meta']['next']\n",
    "        if next_url:\n",
    "            # Fix: add base if it's a relative URL\n",
    "            if next_url.startswith('/'):\n",
    "                next_url = BASE_URL + next_url\n",
    "        url = next_url\n",
    "\n",
    "    return pd.DataFrame(all_data)\n",
    "\n",
    "df = get_all_records(\"molecule\", max_records=2000)\n",
    "print(df.head())"
   ]
  },
  {
   "cell_type": "code",
   "execution_count": 20,
   "id": "e9ee2e10",
   "metadata": {},
   "outputs": [
    {
     "data": {
      "text/plain": [
       "{'alogp': '2.11',\n",
       " 'aromatic_rings': 3,\n",
       " 'full_molformula': 'C17H12ClN3O3',\n",
       " 'full_mwt': '341.75',\n",
       " 'hba': 5,\n",
       " 'hbd': 1,\n",
       " 'heavy_atoms': 24,\n",
       " 'mw_freebase': '341.75',\n",
       " 'np_likeness_score': '-1.56',\n",
       " 'num_ro5_violations': 0,\n",
       " 'psa': '84.82',\n",
       " 'qed_weighted': '0.74',\n",
       " 'ro3_pass': 'N',\n",
       " 'rtb': 3}"
      ]
     },
     "execution_count": 20,
     "metadata": {},
     "output_type": "execute_result"
    }
   ],
   "source": [
    "df['molecule_properties'][0]"
   ]
  },
  {
   "cell_type": "code",
   "execution_count": 10,
   "id": "d45009f7",
   "metadata": {},
   "outputs": [
    {
     "data": {
      "text/plain": [
       "0       {'canonical_smiles': 'Cc1cc(-n2ncc(=O)[nH]c2=O...\n",
       "1       {'canonical_smiles': 'Cc1cc(-n2ncc(=O)[nH]c2=O...\n",
       "2       {'canonical_smiles': 'Cc1cc(-n2ncc(=O)[nH]c2=O...\n",
       "3       {'canonical_smiles': 'Cc1ccc(C(=O)c2ccc(-n3ncc...\n",
       "4       {'canonical_smiles': 'Cc1cc(-n2ncc(=O)[nH]c2=O...\n",
       "                              ...                        \n",
       "1995    {'canonical_smiles': 'Cc1cc(C)nc(NS(=O)(=O)c2c...\n",
       "1996    {'canonical_smiles': 'N=C(N)NCCC[C@H](NC(=O)c1...\n",
       "1997    {'canonical_smiles': 'Oc1ccc2c(c1CCCNc1ccccc1)...\n",
       "1998    {'canonical_smiles': 'COc1ccc2nc(N)n3nc(-c4ccc...\n",
       "1999    {'canonical_smiles': 'CCCCc1nc2ccccc2n1Cc1ccc(...\n",
       "Name: molecule_structures, Length: 2000, dtype: object"
      ]
     },
     "execution_count": 10,
     "metadata": {},
     "output_type": "execute_result"
    }
   ],
   "source": [
    "df[\"molecule_structures\"] #.apply(lambda x: x.get(\"canonical_smiles\") if pd.notnull(x) else None).head()"
   ]
  },
  {
   "cell_type": "markdown",
   "id": "fac0cbad",
   "metadata": {},
   "source": [
    "# binding_free_energy_kcal_per_mol from CHEMBL"
   ]
  },
  {
   "cell_type": "code",
   "execution_count": null,
   "id": "6fab0149",
   "metadata": {},
   "outputs": [
    {
     "name": "stdout",
     "output_type": "stream",
     "text": [
      "dict_keys(['activities', 'page_meta'])\n",
      "  molecule_chembl_id standard_type standard_value standard_units\n",
      "0       CHEMBL113081          IC50       100000.0             nM\n",
      "1       CHEMBL324340          IC50         2500.0             nM\n",
      "2       CHEMBL324340          IC50        50000.0             nM\n",
      "3       CHEMBL109600          IC50         9000.0             nM\n",
      "4       CHEMBL109600          IC50           None             nM\n"
     ]
    }
   ],
   "source": [
    "BASE = \"https://www.ebi.ac.uk/chembl/api/data/activity.json\"\n",
    "\n",
    "response = requests.get(BASE)\n",
    "data = response.json()\n",
    "print(data.keys())\n",
    "df_drug_properties = pd.DataFrame(data[\"activities\"])\n",
    "print(df_drug_properties[[\"molecule_chembl_id\", \"standard_type\", \"standard_value\", \"standard_units\"]].head())\n"
   ]
  },
  {
   "cell_type": "code",
   "execution_count": 36,
   "id": "a97947bd",
   "metadata": {},
   "outputs": [],
   "source": [
    "df_drug_properties[\"standard_value\"] = pd.to_numeric(df_drug_properties[\"standard_value\"], errors='coerce')"
   ]
  },
  {
   "cell_type": "code",
   "execution_count": 37,
   "id": "a7076995",
   "metadata": {},
   "outputs": [
    {
     "name": "stdout",
     "output_type": "stream",
     "text": [
      "count    17.000000\n",
      "mean      4.573023\n",
      "std       2.106175\n",
      "min       0.651477\n",
      "25%       2.462500\n",
      "50%       5.158812\n",
      "75%       5.980885\n",
      "max       8.192598\n",
      "Name: binding_free_energy_kcal_per_mol, dtype: float64\n"
     ]
    },
    {
     "name": "stderr",
     "output_type": "stream",
     "text": [
      "/opt/anaconda3/envs/ugrad-nlp/lib/python3.10/site-packages/pandas/core/arraylike.py:399: RuntimeWarning: invalid value encountered in log\n",
      "  result = getattr(ufunc, method)(*inputs, **kwargs)\n"
     ]
    }
   ],
   "source": [
    "import numpy as np\n",
    "df_drug_properties[\"binding_free_energy_kcal_per_mol\"] = 0.593 * np.log(df_drug_properties[\"standard_value\"])\n",
    "print(df_drug_properties[\"binding_free_energy_kcal_per_mol\"].describe())"
   ]
  },
  {
   "cell_type": "code",
   "execution_count": null,
   "id": "8a900ebc",
   "metadata": {},
   "outputs": [],
   "source": []
  }
 ],
 "metadata": {
  "kernelspec": {
   "display_name": "ugrad-nlp",
   "language": "python",
   "name": "python3"
  },
  "language_info": {
   "codemirror_mode": {
    "name": "ipython",
    "version": 3
   },
   "file_extension": ".py",
   "mimetype": "text/x-python",
   "name": "python",
   "nbconvert_exporter": "python",
   "pygments_lexer": "ipython3",
   "version": "3.10.18"
  }
 },
 "nbformat": 4,
 "nbformat_minor": 5
}
