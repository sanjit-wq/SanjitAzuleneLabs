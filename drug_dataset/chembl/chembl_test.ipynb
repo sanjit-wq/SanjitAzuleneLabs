{
 "cells": [
  {
   "cell_type": "code",
   "execution_count": 1,
   "id": "dfe36538",
   "metadata": {},
   "outputs": [
    {
     "name": "stdout",
     "output_type": "stream",
     "text": [
      "hi\n",
      "more hi\n",
      "CHEMBL6329\n"
     ]
    }
   ],
   "source": [
    "import os\n",
    "print('hi')\n",
    "import requests\n",
    "import pandas as pd\n",
    "\n",
    "API_URL = \"https://www.ebi.ac.uk/chembl/api/data/molecule.json\"\n",
    "BATCH_SIZE = 1000\n",
    "TOTAL_RECORDS = 2000000        # total molecules in ChEMBL (approx)\n",
    "SAMPLE_SIZE = int(TOTAL_RECORDS * 0.10)  # 10% sample (~200k)\n",
    "LIMIT = BATCH_SIZE\n",
    "OFFSET = 0\n",
    "\n",
    "print(\"more hi\")\n",
    "params = {\"limit\": LIMIT, \"offset\": OFFSET}\n",
    "resp = requests.get(API_URL, params=params)\n",
    "resp.raise_for_status()\n",
    "data = resp.json()\n",
    "\n",
    "if \"molecules\" not in data:\n",
    "        print(\"Unexpected response\")\n",
    "\n",
    "molecules = data[\"molecules\"]\n",
    "print(molecules[0][\"molecule_chembl_id\"])\n"
   ]
  },
  {
   "cell_type": "code",
   "execution_count": 2,
   "id": "3bf9cf74",
   "metadata": {},
   "outputs": [
    {
     "data": {
      "text/plain": [
       "dict_keys(['atc_classifications', 'availability_type', 'biotherapeutic', 'black_box_warning', 'chemical_probe', 'chirality', 'cross_references', 'dosed_ingredient', 'first_approval', 'first_in_class', 'helm_notation', 'inorganic_flag', 'max_phase', 'molecule_chembl_id', 'molecule_hierarchy', 'molecule_properties', 'molecule_structures', 'molecule_synonyms', 'molecule_type', 'natural_product', 'oral', 'orphan', 'parenteral', 'polymer_flag', 'pref_name', 'prodrug', 'structure_type', 'therapeutic_flag', 'topical', 'usan_stem', 'usan_stem_definition', 'usan_substem', 'usan_year', 'veterinary', 'withdrawn_flag'])"
      ]
     },
     "execution_count": 2,
     "metadata": {},
     "output_type": "execute_result"
    }
   ],
   "source": [
    "molecules[0].keys()"
   ]
  },
  {
   "cell_type": "code",
   "execution_count": 3,
   "id": "9b628238",
   "metadata": {},
   "outputs": [
    {
     "name": "stdout",
     "output_type": "stream",
     "text": [
      "<class 'list'> atc_classifications\n",
      "<class 'int'> availability_type\n",
      "<class 'NoneType'> biotherapeutic\n",
      "<class 'int'> black_box_warning\n",
      "<class 'int'> chemical_probe\n",
      "<class 'int'> chirality\n",
      "<class 'list'> cross_references\n",
      "<class 'bool'> dosed_ingredient\n",
      "<class 'NoneType'> first_approval\n",
      "<class 'int'> first_in_class\n",
      "<class 'NoneType'> helm_notation\n",
      "<class 'int'> inorganic_flag\n",
      "<class 'NoneType'> max_phase\n",
      "<class 'str'> molecule_chembl_id\n",
      "<class 'dict'> molecule_hierarchy\n",
      "<class 'dict'> molecule_properties\n",
      "<class 'dict'> molecule_structures\n",
      "<class 'list'> molecule_synonyms\n",
      "<class 'str'> molecule_type\n",
      "<class 'int'> natural_product\n",
      "<class 'bool'> oral\n",
      "<class 'int'> orphan\n",
      "<class 'bool'> parenteral\n",
      "<class 'int'> polymer_flag\n",
      "<class 'NoneType'> pref_name\n",
      "<class 'int'> prodrug\n",
      "<class 'str'> structure_type\n",
      "<class 'bool'> therapeutic_flag\n",
      "<class 'bool'> topical\n",
      "<class 'NoneType'> usan_stem\n",
      "<class 'NoneType'> usan_stem_definition\n",
      "<class 'NoneType'> usan_substem\n",
      "<class 'NoneType'> usan_year\n",
      "<class 'int'> veterinary\n",
      "<class 'bool'> withdrawn_flag\n"
     ]
    }
   ],
   "source": [
    "m0 = molecules[0]\n",
    "\n",
    "for key in m0.keys():\n",
    "    print(type(m0[key]), key)"
   ]
  },
  {
   "cell_type": "code",
   "execution_count": 9,
   "id": "680bcc8f",
   "metadata": {},
   "outputs": [
    {
     "name": "stdout",
     "output_type": "stream",
     "text": [
      "molecule_properties\n",
      "<class 'str'> alogp\n",
      "<class 'int'> aromatic_rings\n",
      "<class 'str'> full_molformula\n",
      "<class 'str'> full_mwt\n",
      "<class 'int'> hba\n",
      "<class 'int'> hbd\n",
      "<class 'int'> heavy_atoms\n",
      "<class 'str'> mw_freebase\n",
      "<class 'str'> np_likeness_score\n",
      "<class 'int'> num_ro5_violations\n",
      "<class 'str'> psa\n",
      "<class 'str'> qed_weighted\n",
      "<class 'str'> ro3_pass\n",
      "<class 'int'> rtb\n"
     ]
    }
   ],
   "source": [
    "## Look into each key in m0:\n",
    "m0_key = \"molecule_properties\"\n",
    "print(m0_key)\n",
    "for key in m0[m0_key].keys():\n",
    "    print(type(m0[m0_key][key]), key)"
   ]
  },
  {
   "cell_type": "code",
   "execution_count": 8,
   "id": "0779a8e0",
   "metadata": {},
   "outputs": [
    {
     "data": {
      "text/html": [
       "<div>\n",
       "<style scoped>\n",
       "    .dataframe tbody tr th:only-of-type {\n",
       "        vertical-align: middle;\n",
       "    }\n",
       "\n",
       "    .dataframe tbody tr th {\n",
       "        vertical-align: top;\n",
       "    }\n",
       "\n",
       "    .dataframe thead th {\n",
       "        text-align: right;\n",
       "    }\n",
       "</style>\n",
       "<table border=\"1\" class=\"dataframe\">\n",
       "  <thead>\n",
       "    <tr style=\"text-align: right;\">\n",
       "      <th></th>\n",
       "      <th>molecule_chembl_id</th>\n",
       "      <th>molecule_data</th>\n",
       "    </tr>\n",
       "  </thead>\n",
       "  <tbody>\n",
       "    <tr>\n",
       "      <th>0</th>\n",
       "      <td>CHEMBL6329</td>\n",
       "      <td>{\"atc_classifications\": [], \"availability_type...</td>\n",
       "    </tr>\n",
       "    <tr>\n",
       "      <th>1</th>\n",
       "      <td>CHEMBL6328</td>\n",
       "      <td>{\"atc_classifications\": [], \"availability_type...</td>\n",
       "    </tr>\n",
       "    <tr>\n",
       "      <th>2</th>\n",
       "      <td>CHEMBL265667</td>\n",
       "      <td>{\"atc_classifications\": [], \"availability_type...</td>\n",
       "    </tr>\n",
       "    <tr>\n",
       "      <th>3</th>\n",
       "      <td>CHEMBL6362</td>\n",
       "      <td>{\"atc_classifications\": [], \"availability_type...</td>\n",
       "    </tr>\n",
       "    <tr>\n",
       "      <th>4</th>\n",
       "      <td>CHEMBL267864</td>\n",
       "      <td>{\"atc_classifications\": [], \"availability_type...</td>\n",
       "    </tr>\n",
       "  </tbody>\n",
       "</table>\n",
       "</div>"
      ],
      "text/plain": [
       "  molecule_chembl_id                                      molecule_data\n",
       "0         CHEMBL6329  {\"atc_classifications\": [], \"availability_type...\n",
       "1         CHEMBL6328  {\"atc_classifications\": [], \"availability_type...\n",
       "2       CHEMBL265667  {\"atc_classifications\": [], \"availability_type...\n",
       "3         CHEMBL6362  {\"atc_classifications\": [], \"availability_type...\n",
       "4       CHEMBL267864  {\"atc_classifications\": [], \"availability_type..."
      ]
     },
     "execution_count": 8,
     "metadata": {},
     "output_type": "execute_result"
    }
   ],
   "source": [
    "from jsonschema import validate\n",
    "import json\n",
    "df = pd.DataFrame([\n",
    "    {\"molecule_chembl_id\": m[\"molecule_chembl_id\"], \"molecule_data\": json.dumps(m)}\n",
    "    for m in molecules\n",
    "])\n",
    "\n",
    "df.head()"
   ]
  },
  {
   "cell_type": "code",
   "execution_count": 13,
   "id": "1e1829f4",
   "metadata": {},
   "outputs": [
    {
     "data": {
      "text/plain": [
       "dict"
      ]
     },
     "execution_count": 13,
     "metadata": {},
     "output_type": "execute_result"
    }
   ],
   "source": [
    "df[\"molecule_data\"] = df[\"molecule_data\"].apply(json.loads)\n",
    "type((df['molecule_data'][0]))"
   ]
  },
  {
   "cell_type": "code",
   "execution_count": null,
   "id": "5145abfe",
   "metadata": {},
   "outputs": [],
   "source": []
  }
 ],
 "metadata": {
  "kernelspec": {
   "display_name": "chembl_env",
   "language": "python",
   "name": "python3"
  },
  "language_info": {
   "codemirror_mode": {
    "name": "ipython",
    "version": 3
   },
   "file_extension": ".py",
   "mimetype": "text/x-python",
   "name": "python",
   "nbconvert_exporter": "python",
   "pygments_lexer": "ipython3",
   "version": "3.11.13"
  }
 },
 "nbformat": 4,
 "nbformat_minor": 5
}
